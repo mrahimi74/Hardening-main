{
 "cells": [
  {
   "cell_type": "code",
   "execution_count": 4,
   "id": "03cf5e5e-939f-4347-88ba-f54d82404251",
   "metadata": {},
   "outputs": [],
   "source": [
    "import numpy as np\n",
    "import matplotlib.pyplot as plt\n",
    "from PredictorCorrector import predictor_corrector as pc"
   ]
  },
  {
   "cell_type": "markdown",
   "id": "9ac4f59f-2e46-4011-9cc9-35d9335d6aee",
   "metadata": {},
   "source": [
    "Example1: Kinematic Hardening"
   ]
  },
  {
   "cell_type": "code",
   "execution_count": null,
   "id": "3a9443e2-b8c7-4967-9bdb-4892c99cf058",
   "metadata": {},
   "outputs": [],
   "source": [
    "E = 1000   # Elastic modulus\n",
    "H = 111.1    # Kinematic hardening modulus\n",
    "Y0 = 10    # Initial yield stress\n",
    "\n",
    "material = pc.ElastoPlastic(E, H, Y0)\n",
    "\n",
    "# Strain increments from your steps\n",
    "str = np.linspace(0,0.02,6)\n",
    "\n",
    "# Perform the simulation step-by-step\n",
    "eps = np.zeros(len(str))\n",
    "for i in range(len(str) - 1):\n",
    "    eps[i + 1] = str[i+1] - str[i]\n",
    "S = []\n",
    "for q in range(len(eps)):\n",
    "    S.append(material.update_step_isotropic(eps[q])[3])\n",
    "\n",
    "plt.plot(str, S)\n",
    "plt.xlabel('strain')\n",
    "plt.ylabel('stress')\n",
    "plt.grid()"
   ]
  },
  {
   "cell_type": "markdown",
   "id": "e7412c76-90f9-4c22-87b0-fcaad548b88b",
   "metadata": {},
   "source": [
    "Example2: Kinematic Hardening"
   ]
  },
  {
   "cell_type": "code",
   "execution_count": null,
   "id": "69dbcc82-a331-4f7e-8f3a-a822c4a554e0",
   "metadata": {},
   "outputs": [],
   "source": [
    "E = 1300   # Elastic modulus\n",
    "H = 160    # Kinematic hardening modulus\n",
    "Y0 = 8    # Initial yield stress\n",
    "\n",
    "material = pc.ElastoPlastic(E, H, Y0)\n",
    "\n",
    "# Strain increments from your steps\n",
    "str = np.linspace(0,0.02,6)\n",
    "\n",
    "# Perform the simulation step-by-step\n",
    "eps = np.zeros(len(str))\n",
    "for i in range(len(str) - 1):\n",
    "    eps[i + 1] = str[i+1] - str[i]\n",
    "S = []\n",
    "for q in range(len(eps)):\n",
    "    S.append(material.update_step_kinematic(eps[q])[4])\n",
    "\n",
    "plt.plot(str, S)\n",
    "plt.xlabel('strain')\n",
    "plt.ylabel('stress')\n",
    "plt.grid()"
   ]
  },
  {
   "cell_type": "markdown",
   "id": "45c8d87e-e1cc-4b8e-9c1a-fcef5bf0c8b8",
   "metadata": {},
   "source": [
    "Example3: Kinematic Hardening"
   ]
  },
  {
   "cell_type": "code",
   "execution_count": null,
   "id": "7e74dc49-88ab-4659-bd34-534a73502e5a",
   "metadata": {},
   "outputs": [],
   "source": [
    "E = 1420   # Elastic modulus\n",
    "H = 108.4    # Kinematic hardening modulus\n",
    "Y0 = 12    # Initial yield stress\n",
    "\n",
    "material = pc.ElastoPlastic(E, H, Y0)\n",
    "\n",
    "# Perform the simulation step-by-step\n",
    "str = np.linspace(0,0.05, 4)\n",
    "\n",
    "eps = np.zeros(len(str))\n",
    "for i in range(len(str) - 1):\n",
    "    eps[i + 1] = str[i+1] - str[i]\n",
    "S = []\n",
    "for q in range(len(eps)):\n",
    "    S.append(material.update_step_kinematic(eps[q])[4])\n",
    "\n",
    "plt.plot(str, S)\n",
    "plt.xlabel('strain')\n",
    "plt.ylabel('stress')\n",
    "plt.grid()"
   ]
  },
  {
   "cell_type": "markdown",
   "id": "44c926de-aebe-41a5-b4b3-5737680e3629",
   "metadata": {},
   "source": [
    "Example4: Isotropic Hardening (cyclic)"
   ]
  },
  {
   "cell_type": "code",
   "execution_count": null,
   "id": "baca27e2-e1cf-488c-a855-290b78588e9c",
   "metadata": {},
   "outputs": [],
   "source": [
    "sigma_trial, phi_trial, Y_new, sigma_new, epsilon_p_new\n",
    "\n",
    "E = 1300   # Elastic modulus\n",
    "H = 160    # Kinematic hardening modulus\n",
    "Y0 = 8    # Initial yield stress\n",
    "\n",
    "material = pc.ElastoPlastic(E, H, Y0)\n",
    "\n",
    "# Strain increments from your steps\n",
    "str = np.array([0, 0.0075, 0.03, 0.05, 0.02, -0.05, -0.01, 0.07, 0.016,-0.028])\n",
    "\n",
    "# Perform the simulation step-by-step\n",
    "eps = np.zeros(len(str))\n",
    "for i in range(len(str) - 1):\n",
    "    eps[i + 1] = str[i+1] - str[i]\n",
    "S = []\n",
    "for q in range(len(eps)):\n",
    "    S.append(material.update_step_isotropic(eps[q])[3])\n",
    "\n",
    "plt.plot(str, S)\n",
    "plt.xlabel('strain')\n",
    "plt.ylabel('stress')\n",
    "plt.grid()"
   ]
  },
  {
   "cell_type": "markdown",
   "id": "6cad72b2-c3b5-45f6-9c7c-2cdefc4ca0ef",
   "metadata": {},
   "source": [
    "Example5: Isotropic Hardening (cyclic)"
   ]
  },
  {
   "cell_type": "code",
   "execution_count": null,
   "id": "d76c3707-20e4-4f69-aaf6-c4701d8a34a9",
   "metadata": {},
   "outputs": [],
   "source": [
    "sigma_trial, phi_trial, Y_new, sigma_new, epsilon_p_new\n",
    "\n",
    "E = 1420   # Elastic modulus\n",
    "H = 118    # Kinematic hardening modulus\n",
    "Y0 = 11    # Initial yield stress\n",
    "\n",
    "material = pc.ElastoPlastic(E, H, Y0)\n",
    "\n",
    "# Strain increments from your steps\n",
    "str = np.array([0, 0.0075, 0.03, 0.05, 0.02, -0.05, -0.01, 0.07, 0.016,-0.028])\n",
    "\n",
    "eps = np.zeros(len(str))\n",
    "for i in range(len(str) - 1):\n",
    "    eps[i + 1] = str[i+1] - str[i]\n",
    "S = []\n",
    "for q in range(len(eps)):\n",
    "    S.append(material.update_step_kinematic(eps[q])[4])\n",
    "\n",
    "plt.plot(str, S)\n",
    "plt.xlabel('strain')\n",
    "plt.ylabel('stress')\n",
    "plt.grid()"
   ]
  }
 ],
 "metadata": {
  "kernelspec": {
   "display_name": "Python 3 (ipykernel)",
   "language": "python",
   "name": "python3"
  },
  "language_info": {
   "codemirror_mode": {
    "name": "ipython",
    "version": 3
   },
   "file_extension": ".py",
   "mimetype": "text/x-python",
   "name": "python",
   "nbconvert_exporter": "python",
   "pygments_lexer": "ipython3",
   "version": "3.12.4"
  }
 },
 "nbformat": 4,
 "nbformat_minor": 5
}

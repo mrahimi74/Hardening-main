{
 "cells": [
  {
   "cell_type": "code",
   "execution_count": 4,
   "id": "03cf5e5e-939f-4347-88ba-f54d82404251",
   "metadata": {},
   "outputs": [],
   "source": [
    "import numpy as np\n",
    "from PredictorCorrector import predictor_corrector as pc"
   ]
  },
  {
   "cell_type": "markdown",
   "id": "9ac4f59f-2e46-4011-9cc9-35d9335d6aee",
   "metadata": {},
   "source": [
    "Example1: Kinematic Hardening"
   ]
  },
  {
   "cell_type": "code",
   "execution_count": null,
   "id": "3a9443e2-b8c7-4967-9bdb-4892c99cf058",
   "metadata": {},
   "outputs": [],
   "source": [
    "E = 1000   # Elastic modulus\n",
    "H = 111.1    # Kinematic hardening modulus\n",
    "Y0 = 10    # Initial yield stress\n",
    "\n",
    "material = pc.ElastoPlastic(E, H, Y0)\n",
    "\n",
    "# Strain increments from your steps\n",
    "strain_increments = np.linspace(0,0.02,20)\n",
    "\n",
    "# Perform the simulation step-by-step\n",
    "print(f\"{'Step':<5} {'σ_trial':<10} {'η_trial':<10} {'φ_trial':<10} {'σ_new':<10} {'α_new':<10} {'εp_new':<10}\")\n",
    "for i, delta_eps in enumerate(strain_increments, 1):\n",
    "    alpha_trial, eta_trial, phi_trial, sigma_new, epsilon_p_new, alpha_new = material.update_step_kinematic(delta_eps)\n",
    "    print(f\"{i:<5} {alpha_trial:<10.4f} {eta_trial:<10.4f} {phi_trial:<10.4f} \"\n",
    "          f\"{sigma_new:<10.4f} {epsilon_p_new:<10.4f} {alpha_new:<10.4f} \")"
   ]
  },
  {
   "cell_type": "code",
   "execution_count": null,
   "id": "de0be488-b988-4352-a3b3-a74c78cfc4d8",
   "metadata": {},
   "outputs": [],
   "source": [
    "Example2: Kinematic Hardening"
   ]
  },
  {
   "cell_type": "code",
   "execution_count": null,
   "id": "69dbcc82-a331-4f7e-8f3a-a822c4a554e0",
   "metadata": {},
   "outputs": [],
   "source": [
    "E = 1300   # Elastic modulus\n",
    "H = 160    # Kinematic hardening modulus\n",
    "Y0 = 8    # Initial yield stress\n",
    "\n",
    "material = pc.ElastoPlastic(E, H, Y0)\n",
    "\n",
    "# Strain increments from your steps\n",
    "strain_increments = np.linspace(0,0.01,40)\n",
    "\n",
    "# Perform the simulation step-by-step\n",
    "print(f\"{'Step':<5} {'σ_trial':<10} {'η_trial':<10} {'φ_trial':<10} {'σ_new':<10} {'α_new':<10} {'εp_new':<10}\")\n",
    "for i, delta_eps in enumerate(strain_increments, 1):\n",
    "    alpha_trial, eta_trial, phi_trial, sigma_new, epsilon_p_new, alpha_new = material.update_step_kinematic(delta_eps)\n",
    "    print(f\"{i:<5} {alpha_trial:<10.4f} {eta_trial:<10.4f} {phi_trial:<10.4f} \"\n",
    "          f\"{sigma_new:<10.4f} {epsilon_p_new:<10.4f} {alpha_new:<10.4f} \")"
   ]
  },
  {
   "cell_type": "code",
   "execution_count": null,
   "id": "c1b1cfd7-ce84-4026-b627-3d6de800b0c7",
   "metadata": {},
   "outputs": [],
   "source": [
    "Example3: Kinematic Hardening"
   ]
  },
  {
   "cell_type": "code",
   "execution_count": null,
   "id": "7e74dc49-88ab-4659-bd34-534a73502e5a",
   "metadata": {},
   "outputs": [],
   "source": [
    "E = 1420   # Elastic modulus\n",
    "H = 108.4    # Kinematic hardening modulus\n",
    "Y0 = 12    # Initial yield stress\n",
    "\n",
    "material = pc.ElastoPlastic(E, H, Y0)\n",
    "\n",
    "# Strain increments from your steps\n",
    "strain_increments = np.linspace(0,0.1,30)\n",
    "\n",
    "# Perform the simulation step-by-step\n",
    "print(f\"{'Step':<5} {'σ_trial':<10} {'η_trial':<10} {'φ_trial':<10} {'σ_new':<10} {'α_new':<10} {'εp_new':<10}\")\n",
    "for i, delta_eps in enumerate(strain_increments, 1):\n",
    "    alpha_trial, eta_trial, phi_trial, sigma_new, epsilon_p_new, alpha_new = material.update_step_kinematic(delta_eps)\n",
    "    print(f\"{i:<5} {alpha_trial:<10.4f} {eta_trial:<10.4f} {phi_trial:<10.4f} \"\n",
    "          f\"{sigma_new:<10.4f} {epsilon_p_new:<10.4f} {alpha_new:<10.4f} \")"
   ]
  },
  {
   "cell_type": "code",
   "execution_count": null,
   "id": "bd5e4edb-208c-4bb2-a3bd-be15d461577e",
   "metadata": {},
   "outputs": [],
   "source": [
    "Example4: Isotropic Hardening"
   ]
  },
  {
   "cell_type": "code",
   "execution_count": null,
   "id": "baca27e2-e1cf-488c-a855-290b78588e9c",
   "metadata": {},
   "outputs": [],
   "source": [
    "sigma_trial, phi_trial, Y_new, sigma_new, epsilon_p_new\n",
    "\n",
    "E = 1300   # Elastic modulus\n",
    "H = 160    # Kinematic hardening modulus\n",
    "Y0 = 8    # Initial yield stress\n",
    "\n",
    "material = pc.ElastoPlastic(E, H, Y0)\n",
    "\n",
    "# Strain increments from your steps\n",
    "strain_increments = np.linspace(0,0.01,40)\n",
    "\n",
    "# Perform the simulation step-by-step\n",
    "print(f\"{'Step':<5} {'σ_trial':<10} {'φ_trial':<10} {'Y_n+1':<10} {'σ_n+1':<10} {'εp_n+1':<10}\")\n",
    "for i, delta_eps in enumerate(strain_increments, 1):\n",
    "    sigma_trial, phi_trial, Y_new, sigma_new, epsilon_p_new = material.update_step_isotropic(delta_eps)\n",
    "    print(f\"{i:<5} {sigma_trial:<10.4f} {phi_trial:<10.4f} \"\n",
    "          f\"{Y_new:<10.4f} {sigma_new:<10.4f} {epsilon_p_new:<10.4f} \")"
   ]
  }
 ],
 "metadata": {
  "kernelspec": {
   "display_name": "Python 3 (ipykernel)",
   "language": "python",
   "name": "python3"
  },
  "language_info": {
   "codemirror_mode": {
    "name": "ipython",
    "version": 3
   },
   "file_extension": ".py",
   "mimetype": "text/x-python",
   "name": "python",
   "nbconvert_exporter": "python",
   "pygments_lexer": "ipython3",
   "version": "3.12.4"
  }
 },
 "nbformat": 4,
 "nbformat_minor": 5
}
